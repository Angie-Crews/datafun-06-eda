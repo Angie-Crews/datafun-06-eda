{
 "cells": [
  {
   "cell_type": "markdown",
   "id": "abeb35f0",
   "metadata": {},
   "source": [
    "<div style=\"color:black\">\n",
    "\n",
    "# **Project 6 EDA Notebook**\n",
    "\n",
    "**Author:** Angie Crews  \n",
    "**Date Due:** Friday, October 3, 2025\n",
    "\n",
    "</div>"
   ]
  },
  {
   "cell_type": "markdown",
   "id": "be271968",
   "metadata": {},
   "source": [
    "<div style=\"color:black; font-size:1.5em\">\n",
    "\n",
    "<img src=\"https://cdn.jsdelivr.net/gh/twitter/twemoji@14.0.2/assets/svg/1f4e5.svg\" alt=\"import icon\" width=\"32\" style=\"vertical-align:middle\"> ***01 Imports***\n",
    "\n",
    "</div>"
   ]
  },
  {
   "cell_type": "code",
   "execution_count": 17,
   "id": "21603670",
   "metadata": {},
   "outputs": [
    {
     "name": "stdout",
     "output_type": "stream",
     "text": [
      "Requirement already satisfied: pyarrow in c:\\repos\\.venv\\lib\\site-packages (21.0.0)\n",
      "Note: you may need to restart the kernel to use updated packages.\n"
     ]
    }
   ],
   "source": [
    "%pip install pyarrow\n",
    "\n",
    "import pandas as pd\n",
    "import numpy as np\n",
    "import matplotlib.pyplot as plt\n",
    "import seaborn as sns\n",
    "import pyarrow as pa\n",
    "import jupyterlab as jl"
   ]
  },
  {
   "cell_type": "markdown",
   "id": "aeca4cab",
   "metadata": {},
   "source": [
    "<div style=\"color:black; font-size:1.5em\">\n",
    "\n",
    "🗂️ ***02 Data Acquisition***\n",
    "\n",
    "</div>"
   ]
  },
  {
   "cell_type": "code",
   "execution_count": 18,
   "id": "11297616",
   "metadata": {},
   "outputs": [
    {
     "data": {
      "text/html": [
       "<div>\n",
       "<style scoped>\n",
       "    .dataframe tbody tr th:only-of-type {\n",
       "        vertical-align: middle;\n",
       "    }\n",
       "\n",
       "    .dataframe tbody tr th {\n",
       "        vertical-align: top;\n",
       "    }\n",
       "\n",
       "    .dataframe thead th {\n",
       "        text-align: right;\n",
       "    }\n",
       "</style>\n",
       "<table border=\"1\" class=\"dataframe\">\n",
       "  <thead>\n",
       "    <tr style=\"text-align: right;\">\n",
       "      <th></th>\n",
       "      <th>REF</th>\n",
       "      <th>Company (Manufacturer)</th>\n",
       "      <th>Company Location</th>\n",
       "      <th>Review Date</th>\n",
       "      <th>Country of Bean Origin</th>\n",
       "      <th>Specific Bean Origin or Bar Name</th>\n",
       "      <th>Cocoa Percent</th>\n",
       "      <th>Ingredients</th>\n",
       "      <th>Most Memorable Characteristics</th>\n",
       "      <th>Rating</th>\n",
       "    </tr>\n",
       "  </thead>\n",
       "  <tbody>\n",
       "    <tr>\n",
       "      <th>0</th>\n",
       "      <td>999</td>\n",
       "      <td>Bahen &amp; Co.</td>\n",
       "      <td>Australia</td>\n",
       "      <td>2012</td>\n",
       "      <td>Blend</td>\n",
       "      <td>Houseblend</td>\n",
       "      <td>70%</td>\n",
       "      <td>2- B,S</td>\n",
       "      <td>chalky, fragrant, then off</td>\n",
       "      <td>2.50</td>\n",
       "    </tr>\n",
       "    <tr>\n",
       "      <th>1</th>\n",
       "      <td>999</td>\n",
       "      <td>Bahen &amp; Co.</td>\n",
       "      <td>Australia</td>\n",
       "      <td>2012</td>\n",
       "      <td>Brazil</td>\n",
       "      <td>Bahia</td>\n",
       "      <td>70%</td>\n",
       "      <td>2- B,S</td>\n",
       "      <td>chalky, intense, chemical</td>\n",
       "      <td>2.50</td>\n",
       "    </tr>\n",
       "    <tr>\n",
       "      <th>2</th>\n",
       "      <td>999</td>\n",
       "      <td>Mast Brothers</td>\n",
       "      <td>U.S.A.</td>\n",
       "      <td>2012</td>\n",
       "      <td>Blend</td>\n",
       "      <td>Madagascar</td>\n",
       "      <td>72%</td>\n",
       "      <td>2- B,S</td>\n",
       "      <td>gritty, overly tart, sour</td>\n",
       "      <td>2.50</td>\n",
       "    </tr>\n",
       "    <tr>\n",
       "      <th>3</th>\n",
       "      <td>999</td>\n",
       "      <td>Mast Brothers</td>\n",
       "      <td>U.S.A.</td>\n",
       "      <td>2012</td>\n",
       "      <td>Venezuela</td>\n",
       "      <td>Chuao</td>\n",
       "      <td>73%</td>\n",
       "      <td>2- B,S</td>\n",
       "      <td>gritty, sour, sweet</td>\n",
       "      <td>2.75</td>\n",
       "    </tr>\n",
       "    <tr>\n",
       "      <th>4</th>\n",
       "      <td>995</td>\n",
       "      <td>Bahen &amp; Co.</td>\n",
       "      <td>Australia</td>\n",
       "      <td>2012</td>\n",
       "      <td>Madagascar</td>\n",
       "      <td>Sambirano</td>\n",
       "      <td>70%</td>\n",
       "      <td>2- B,S</td>\n",
       "      <td>unrefined, flat, grassy</td>\n",
       "      <td>3.00</td>\n",
       "    </tr>\n",
       "  </tbody>\n",
       "</table>\n",
       "</div>"
      ],
      "text/plain": [
       "   REF Company (Manufacturer) Company Location  Review Date  \\\n",
       "0  999  Bahen & Co.            Australia        2012          \n",
       "1  999  Bahen & Co.            Australia        2012          \n",
       "2  999  Mast Brothers          U.S.A.           2012          \n",
       "3  999  Mast Brothers          U.S.A.           2012          \n",
       "4  995  Bahen & Co.            Australia        2012          \n",
       "\n",
       "  Country of Bean Origin Specific Bean Origin or Bar Name Cocoa Percent  \\\n",
       "0  Blend                  Houseblend                       70%            \n",
       "1  Brazil                 Bahia                            70%            \n",
       "2  Blend                  Madagascar                       72%            \n",
       "3  Venezuela              Chuao                            73%            \n",
       "4  Madagascar             Sambirano                        70%            \n",
       "\n",
       "  Ingredients Most Memorable Characteristics  Rating  \n",
       "0  2- B,S      chalky, fragrant, then off     2.50    \n",
       "1  2- B,S      chalky, intense, chemical      2.50    \n",
       "2  2- B,S      gritty, overly tart, sour      2.50    \n",
       "3  2- B,S      gritty, sour, sweet            2.75    \n",
       "4  2- B,S      unrefined, flat, grassy        3.00    "
      ]
     },
     "execution_count": 18,
     "metadata": {},
     "output_type": "execute_result"
    }
   ],
   "source": [
    "# Load the dataset into a pandas DataFrame\n",
    "df = pd.read_csv('flavors_of_cacao.csv', encoding='latin1')\n",
    "\n",
    "# Show the first five rows as a table\n",
    "df.head()"
   ]
  },
  {
   "cell_type": "markdown",
   "id": "820a12e0",
   "metadata": {},
   "source": [
    "<div style=\"color:black; font-size:1.5em\">\n",
    "\n",
    "🔍 ***03 Initial Data Inspection***\n",
    "\n",
    "</div>"
   ]
  },
  {
   "cell_type": "code",
   "execution_count": 19,
   "id": "84742ac5",
   "metadata": {},
   "outputs": [
    {
     "name": "stdout",
     "output_type": "stream",
     "text": [
      "Shape: (2789, 10)\n",
      "Data types:\n",
      " REF                                 int64  \n",
      "Company (Manufacturer)              object \n",
      "Company Location                    object \n",
      "Review Date                         int64  \n",
      "Country of Bean Origin              object \n",
      "Specific Bean Origin or Bar Name    object \n",
      "Cocoa Percent                       object \n",
      "Ingredients                         object \n",
      "Most Memorable Characteristics      object \n",
      "Rating                              float64\n",
      "dtype: object\n"
     ]
    }
   ],
   "source": [
    "# Display the first 10 rows\n",
    "df.head(10)\n",
    "\n",
    "# Display the shape of the DataFrame (rows, columns)\n",
    "print(\"Shape:\", df.shape)\n",
    "\n",
    "# Display the data types of each column\n",
    "print(\"Data types:\\n\", df.dtypes)"
   ]
  },
  {
   "cell_type": "markdown",
   "id": "679b988a",
   "metadata": {},
   "source": [
    "<div style=\"color:black; font-size:1.5em\">\n",
    "\n",
    "📊 ***04 Initial Descriptive Statistics***\n",
    "\n",
    "</div>"
   ]
  },
  {
   "cell_type": "code",
   "execution_count": null,
   "id": "451376a5",
   "metadata": {
    "vscode": {
     "languageId": "julia"
    }
   },
   "outputs": [],
   "source": [
    "print(\"\\n--- Dataset Shape ---\")\n",
    "print(df.shape)\n",
    "\n",
    "print(\"\\n--- Column Info ---\")\n",
    "print(df.info())\n",
    "\n",
    "print(\"\\n--- Missing Values ---\")\n",
    "print(df.isnull().sum())\n",
    "\n",
    "print(\"\\n--- Summary Statistics for Cocoa Percent, Ingredients, and Rating ---\")\n",
    "print(df[['Cocoa Percent', 'Ingredients', 'Rating']].describe(include='all'))"
   ]
  }
 ],
 "metadata": {
  "kernelspec": {
   "display_name": ".venv",
   "language": "python",
   "name": "python3"
  },
  "language_info": {
   "codemirror_mode": {
    "name": "ipython",
    "version": 3
   },
   "file_extension": ".py",
   "mimetype": "text/x-python",
   "name": "python",
   "nbconvert_exporter": "python",
   "pygments_lexer": "ipython3",
   "version": "3.13.7"
  }
 },
 "nbformat": 4,
 "nbformat_minor": 5
}

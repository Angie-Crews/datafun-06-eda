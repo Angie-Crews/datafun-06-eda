{
 "cells": [
  {
   "cell_type": "markdown",
   "id": "abeb35f0",
   "metadata": {},
   "source": [
    "<div style=\"color:black\">\n",
    "\n",
    "# **Project 6 EDA Notebook**\n",
    "\n",
    "**Author:** Angie Crews  \n",
    "**Date Due:** Friday, October 3, 2025\n",
    "\n",
    "</div>"
   ]
  },
  {
   "cell_type": "markdown",
   "id": "be271968",
   "metadata": {},
   "source": [
    "<div style=\"color:black; font-size:1.5em\">\n",
    "\n",
    "<img src=\"https://cdn.jsdelivr.net/gh/twitter/twemoji@14.0.2/assets/svg/1f4e5.svg\" alt=\"import icon\" width=\"32\" style=\"vertical-align:middle\"> ***01 Imports***\n",
    "\n",
    "</div>"
   ]
  },
  {
   "cell_type": "code",
   "execution_count": null,
   "id": "21603670",
   "metadata": {},
   "outputs": [],
   "source": [
    "import pandas as pd\n",
    "import numpy as np\n",
    "import matplotlib.pyplot as plt\n",
    "import seaborn as sns\n",
    "import pyarrow as pa\n",
    "import jupyterlab as jl"
   ]
  }
 ],
 "metadata": {
  "kernelspec": {
   "display_name": ".venv",
   "language": "python",
   "name": "python3"
  },
  "language_info": {
   "name": "python",
   "version": "3.13.7"
  }
 },
 "nbformat": 4,
 "nbformat_minor": 5
}
